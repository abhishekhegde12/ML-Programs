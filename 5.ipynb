{
 "cells": [
  {
   "cell_type": "code",
   "execution_count": 1,
   "id": "84907a6e",
   "metadata": {},
   "outputs": [],
   "source": [
    "import numpy as np"
   ]
  },
  {
   "cell_type": "code",
   "execution_count": 8,
   "id": "f6a2188d",
   "metadata": {},
   "outputs": [],
   "source": [
    "x=np.array(([2.9],[1.5],[3.6]),dtype=float)\n",
    "y=np.array(([0.92],[0.86],[0.89]),dtype=float)"
   ]
  },
  {
   "cell_type": "code",
   "execution_count": 9,
   "id": "d9e5e111",
   "metadata": {},
   "outputs": [],
   "source": [
    "X=x/np.amax(x,axis=0)"
   ]
  },
  {
   "cell_type": "code",
   "execution_count": 10,
   "id": "7df1f638",
   "metadata": {},
   "outputs": [],
   "source": [
    "def sigmoid(x):\n",
    "    return 1/(1+np.exp(-x))\n",
    "\n",
    "def der_sigmoid(x):\n",
    "    return x*(1-x)"
   ]
  },
  {
   "cell_type": "code",
   "execution_count": 23,
   "id": "9ad16fbe",
   "metadata": {},
   "outputs": [],
   "source": [
    "epoch=5000\n",
    "lr=0.01\n",
    "neuron_i=1\n",
    "neuron_h=3\n",
    "neuron_o=1"
   ]
  },
  {
   "cell_type": "code",
   "execution_count": 24,
   "id": "e313a8d3",
   "metadata": {},
   "outputs": [],
   "source": [
    "for i in range(epoch):\n",
    "    \n",
    "    #Calculation of weight and bias\n",
    "    weight_h=np.random.uniform(size=(neuron_i,neuron_h))\n",
    "    bias_h=np.random.uniform(2,neuron_h)\n",
    "    weight_o=np.random.uniform(size=(neuron_h,neuron_o))\n",
    "    bias_o=np.random.uniform(2,neuron_o)\n",
    "    \n",
    "    #Forward pass\n",
    "    inp_h=np.dot(X,weight_h)+bias_h\n",
    "    out_h=sigmoid(inp_h)\n",
    "    \n",
    "    inp_o=np.dot(out_h,weight_o)+bias_o\n",
    "    out_o=sigmoid(inp_o)\n",
    "    \n",
    "    #Error calculation\n",
    "    err_o=y-out_o\n",
    "    grad_o=der_sigmoid(out_o)\n",
    "    delta_o=err_o*grad_o\n",
    "    \n",
    "    #Back Propagation\n",
    "    err_h=delta_o.dot(weight_o.T)\n",
    "    grad_h=der_sigmoid(out_h)\n",
    "    delta_h=err_h*grad_h\n",
    "    \n",
    "    weight_o=out_h.T.dot(delta_o)*lr\n",
    "    weight_h=X.T.dot(delta_h)*lr\n",
    "    "
   ]
  },
  {
   "cell_type": "code",
   "execution_count": 25,
   "id": "cb9147f3",
   "metadata": {},
   "outputs": [
    {
     "name": "stdout",
     "output_type": "stream",
     "text": [
      "Input:  [[0.80555556]\n",
      " [0.41666667]\n",
      " [1.        ]]\n",
      "Actual:  [[0.92]\n",
      " [0.86]\n",
      " [0.89]]\n",
      "Predicted:  [[0.90939472]\n",
      " [0.90844873]\n",
      " [0.90976714]]\n"
     ]
    }
   ],
   "source": [
    "print(\"Input: \",X)\n",
    "print(\"Actual: \",y)\n",
    "print(\"Predicted: \",out_o)"
   ]
  },
  {
   "cell_type": "code",
   "execution_count": null,
   "id": "6998a814",
   "metadata": {},
   "outputs": [],
   "source": []
  }
 ],
 "metadata": {
  "kernelspec": {
   "display_name": "Python 3 (ipykernel)",
   "language": "python",
   "name": "python3"
  },
  "language_info": {
   "codemirror_mode": {
    "name": "ipython",
    "version": 3
   },
   "file_extension": ".py",
   "mimetype": "text/x-python",
   "name": "python",
   "nbconvert_exporter": "python",
   "pygments_lexer": "ipython3",
   "version": "3.11.3"
  }
 },
 "nbformat": 4,
 "nbformat_minor": 5
}
