{
 "cells": [
  {
   "cell_type": "code",
   "execution_count": 28,
   "id": "d8a31260",
   "metadata": {},
   "outputs": [],
   "source": [
    "import pandas as pd\n",
    "import pprint\n",
    "from sklearn.feature_selection import mutual_info_classif\n",
    "from collections import Counter"
   ]
  },
  {
   "cell_type": "code",
   "execution_count": 29,
   "id": "1f01005c",
   "metadata": {},
   "outputs": [],
   "source": [
    "\n",
    "def id3(df, target, attribute, default_class=None):\n",
    "    count=Counter(x for x in  df[target])\n",
    "    \n",
    "    if(len(count)==1):\n",
    "        return next(iter(count))\n",
    "    \n",
    "    elif default_class or (not attribute):\n",
    "        return default_class\n",
    "    \n",
    "    else:\n",
    "        gain=mutual_info_classif(df[attribute],df[target],discrete_features=True)\n",
    "        max_index=gain.tolist().index(max(gain))\n",
    "        best_attr=attribute[max_index]\n",
    "        tree={best_attr:{}}\n",
    "        remain_attr=[i for i in attribute if i!=best_attr]\n",
    "        \n",
    "        for val, data_subset in df.groupby(best_attr):\n",
    "            subtree=id3(data_subset,target,remain_attr,default_class)\n",
    "            tree[best_attr][val]=subtree\n",
    "    return tree"
   ]
  },
  {
   "cell_type": "code",
   "execution_count": 31,
   "id": "76c5d548",
   "metadata": {},
   "outputs": [
    {
     "name": "stdout",
     "output_type": "stream",
     "text": [
      "List of attribute names:   ['Outlook', 'Temperature', 'Humidity', 'Windy', 'PlayTennis']\n",
      "\n",
      "\n",
      "     Outlook  Temperature  Humidity  Windy  PlayTennis\n",
      "0         0            0         0  False           0\n",
      "1         0            0         0   True           0\n",
      "2         1            0         0  False           1\n",
      "3         2            1         0  False           1\n",
      "4         2            2         1  False           1\n",
      "5         2            2         1   True           0\n",
      "6         1            2         1   True           1\n",
      "7         0            1         0  False           0\n",
      "8         0            2         1  False           1\n",
      "9         2            1         1  False           1\n",
      "10        0            1         1   True           1\n",
      "11        1            1         0   True           1\n",
      "12        1            0         1  False           1\n",
      "13        2            1         0   True           0 \n",
      "\n",
      "Tree structure\n",
      "{'Outlook': {0: {'Humidity': {0: 0, 1: 1}},\n",
      "             1: 1,\n",
      "             2: {'Windy': {False: 1, True: 0}}}}\n"
     ]
    }
   ],
   "source": [
    "df=pd.read_csv(\"datasets/p-tennis.csv\")\n",
    "\n",
    "attribute=df.columns.tolist()\n",
    "print(\"List of attribute names:  \",attribute)\n",
    "attribute.remove(\"PlayTennis\")\n",
    "\n",
    "for col in df.select_dtypes(\"object\"):\n",
    "    df[col],_=df[col].factorize()\n",
    "\n",
    "print(\"\\n\\n\",df,\"\\n\\nTree structure\")\n",
    "tree=id3(df,\"PlayTennis\",attribute)\n",
    "pprint.pprint(tree)"
   ]
  },
  {
   "cell_type": "code",
   "execution_count": null,
   "id": "85cd7b78",
   "metadata": {},
   "outputs": [],
   "source": []
  }
 ],
 "metadata": {
  "kernelspec": {
   "display_name": "Python 3 (ipykernel)",
   "language": "python",
   "name": "python3"
  },
  "language_info": {
   "codemirror_mode": {
    "name": "ipython",
    "version": 3
   },
   "file_extension": ".py",
   "mimetype": "text/x-python",
   "name": "python",
   "nbconvert_exporter": "python",
   "pygments_lexer": "ipython3",
   "version": "3.11.3"
  }
 },
 "nbformat": 4,
 "nbformat_minor": 5
}
